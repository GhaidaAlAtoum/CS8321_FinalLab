{
 "cells": [
  {
   "cell_type": "code",
   "execution_count": 1,
   "id": "c899deb6-d9d4-4bad-8e0c-ae4233e4cd41",
   "metadata": {
    "tags": []
   },
   "outputs": [
    {
     "name": "stdout",
     "output_type": "stream",
     "text": [
      "Python Platform: Linux-5.19.0-45-generic-x86_64-with-glibc2.35\n",
      "Tensor Flow Version: 2.12.1\n",
      "Keras Version: 2.12.0\n",
      "\n",
      "Python 3.8.19 (default, Apr  6 2024, 17:58:10) \n",
      "[GCC 11.4.0]\n"
     ]
    }
   ],
   "source": [
    "from BiasStudy import datasets, predictionKit\n",
    "from BiasStudy.datasets import FairFaceDataset\n",
    "from BiasStudy.config.TrainingConfig import BiasStudyConfig\n",
    "from BiasStudy.trainingKit import TrainingLogger\n",
    "from BiasStudy.trainingKit.TrainingModel import BiasModel"
   ]
  },
  {
   "cell_type": "code",
   "execution_count": 19,
   "id": "81e782c8-615b-407b-9dae-6fcec0cde1fc",
   "metadata": {
    "tags": []
   },
   "outputs": [],
   "source": [
    "import os\n",
    "import sys\n",
    "import platform\n",
    "import numpy as np\n",
    "import tensorflow as tf\n",
    "import tensorflow.keras\n",
    "from matplotlib import pyplot as plt\n",
    "from tensorflow import keras\n",
    "from keras.models import Model\n",
    "from keras.models import load_model\n",
    "from tensorflow.keras.optimizers import Adam\n",
    "from tensorflow.keras.layers import Flatten, Dense\n",
    "import numpy as np\n",
    "import pandas as pd"
   ]
  },
  {
   "cell_type": "code",
   "execution_count": 3,
   "id": "0820aa7d-93f7-48aa-ab0a-160de343a9fe",
   "metadata": {
    "tags": []
   },
   "outputs": [],
   "source": [
    "gpus = tf.config.list_physical_devices('GPU')\n",
    "for gpu in gpus:\n",
    "    tf.config.experimental.set_memory_growth(gpu, True)"
   ]
  },
  {
   "cell_type": "markdown",
   "id": "6a06f81f-6ee9-4066-a02d-adf8bfa10615",
   "metadata": {
    "tags": []
   },
   "source": [
    "# Load Models"
   ]
  },
  {
   "cell_type": "markdown",
   "id": "9bd92007-d7d0-48c6-9c5a-b3b33c7c76fd",
   "metadata": {},
   "source": [
    "* RUN_A"
   ]
  },
  {
   "cell_type": "code",
   "execution_count": 4,
   "id": "a7cfa0cd-ddd4-4d77-ab1e-aab8215a35cb",
   "metadata": {
    "tags": []
   },
   "outputs": [],
   "source": [
    "BASE_PATH_TO_WEIGHTS = \"/notebooks/data/results/run_{0}/{1}_{2}/run_{0}_model_{1}conv_{2}kernel/model/model.h5\"\n",
    "\n",
    "def get_result_paths_dict(run_id: str) -> dict:\n",
    "    return {\n",
    "        \"8_3\": BASE_PATH_TO_WEIGHTS.format(run_id, 8, 3),\n",
    "        \"8_5\": BASE_PATH_TO_WEIGHTS.format(run_id, 8, 5),\n",
    "        \"16_3\": BASE_PATH_TO_WEIGHTS.format(run_id, 16, 3),\n",
    "        \"16_5\": BASE_PATH_TO_WEIGHTS.format(run_id, 16, 5)\n",
    "    }"
   ]
  },
  {
   "cell_type": "code",
   "execution_count": 8,
   "id": "7fe5bdd9-770d-4ef4-9000-9c9940e54bce",
   "metadata": {
    "tags": []
   },
   "outputs": [],
   "source": [
    "run_a_model_paths = get_result_paths_dict(\"a\")"
   ]
  },
  {
   "cell_type": "code",
   "execution_count": 9,
   "id": "9b5fa47e-d155-4519-9029-9abd5b881716",
   "metadata": {
    "tags": []
   },
   "outputs": [
    {
     "data": {
      "text/plain": [
       "{'8_3': '/notebooks/data/results/run_a/8_3/run_a_model_8conv_3kernel/model/model.h5',\n",
       " '8_5': '/notebooks/data/results/run_a/8_5/run_a_model_8conv_5kernel/model/model.h5',\n",
       " '16_3': '/notebooks/data/results/run_a/16_3/run_a_model_16conv_3kernel/model/model.h5',\n",
       " '16_5': '/notebooks/data/results/run_a/16_5/run_a_model_16conv_5kernel/model/model.h5'}"
      ]
     },
     "execution_count": 9,
     "metadata": {},
     "output_type": "execute_result"
    }
   ],
   "source": [
    "run_a_model_paths"
   ]
  },
  {
   "cell_type": "code",
   "execution_count": 35,
   "id": "124b3ba0-e6a2-4930-9f8e-2b32155d508d",
   "metadata": {
    "tags": []
   },
   "outputs": [],
   "source": [
    "def get_last_flat_layer_name(model: Model) -> str:\n",
    "    last_layer_name = None\n",
    "    for layer in model.layers:\n",
    "        if type(layer) is Flatten:\n",
    "            last_layer_name = layer.name\n",
    "        if type(layer) is Dense and layer.units != 2:\n",
    "            last_layer_name = layer.name\n",
    "    return last_layer_name"
   ]
  },
  {
   "cell_type": "code",
   "execution_count": 48,
   "id": "f4179a60-fc21-429f-915d-7d5a2df61f26",
   "metadata": {
    "tags": []
   },
   "outputs": [],
   "source": [
    "def load_model_prep_for_bias_study(model_weight_path: str) -> Model:\n",
    "    model = load_model(model_weight_path)\n",
    "    embedding_layer = get_last_flat_layer_name(model)\n",
    "    print(\"Model: {} - Embedding Layer: {}\".format(embedding_layer))\n",
    "    model.trainable = False\n",
    "    return Model(\n",
    "        inputs = model.input,\n",
    "        outputs = model.get_layer(embedding_layer).output\n",
    "    )"
   ]
  },
  {
   "cell_type": "code",
   "execution_count": 47,
   "id": "05f9f148-92ca-43aa-91b3-a84fe2aeed95",
   "metadata": {
    "tags": []
   },
   "outputs": [
    {
     "name": "stdout",
     "output_type": "stream",
     "text": [
      "Model: run_a_model_8conv_3kernel_no_flat - Embedding Layer: flatten\n",
      "Model: run_a_model_8conv_5kernel_no_flat - Embedding Layer: flatten\n",
      "Model: run_a_model_16conv_3kernel_no_flat - Embedding Layer: flatten\n",
      "Model: run_a_model_16conv_5kernel_no_flat - Embedding Layer: flatten\n"
     ]
    }
   ],
   "source": [
    "run_a_model_8_3 = load_model_prep_for_bias_study(run_a_model_paths[\"8_3\"])\n",
    "run_a_model_8_5 = load_model_prep_for_bias_study(run_a_model_paths[\"8_5\"])\n",
    "run_a_model_16_3 = load_model_prep_for_bias_study(run_a_model_paths[\"16_3\"])\n",
    "run_a_model_16_5 = load_model_prep_for_bias_study(run_a_model_paths[\"16_5\"])"
   ]
  },
  {
   "cell_type": "code",
   "execution_count": null,
   "id": "11b57134-6738-4125-960a-fdd7cd6dcca5",
   "metadata": {
    "tags": []
   },
   "outputs": [],
   "source": [
    "model_8layers_3kernel_all = load_model(PATH_TO_WEIGHTS[\"8_layers_3_kernel_no_flat\"])"
   ]
  },
  {
   "cell_type": "code",
   "execution_count": null,
   "id": "e4dae26c-674d-435e-bf15-3cee35e95152",
   "metadata": {
    "tags": []
   },
   "outputs": [],
   "source": [
    "model_8layers_3kernel = Model(\n",
    "    inputs = model_8layers_3kernel.input,\n",
    "    outputs = model_8layers_3kernel.get_layer('flatten').output\n",
    ")"
   ]
  },
  {
   "cell_type": "code",
   "execution_count": null,
   "id": "c66ac8b1-581d-4e85-81ec-1b22f238514c",
   "metadata": {
    "tags": []
   },
   "outputs": [],
   "source": [
    "model_8layers_3kernel.trainable = False\n",
    "model_8layers_3kernel._name = \"model_8layers_3kernel\" #Due to a miss up in config"
   ]
  },
  {
   "cell_type": "code",
   "execution_count": null,
   "id": "6b3da703-bcdd-4ec4-a662-cef4c2f28fcc",
   "metadata": {
    "tags": []
   },
   "outputs": [],
   "source": [
    "model_8layers_5kernel = load_model(PATH_TO_WEIGHTS[\"8_layers_5_kernel_no_flat\"])"
   ]
  },
  {
   "cell_type": "code",
   "execution_count": null,
   "id": "6395506b-0314-44d6-9452-fdcd81002fb4",
   "metadata": {
    "tags": []
   },
   "outputs": [],
   "source": [
    "model_8layers_5kernel.trainable = False\n",
    "model_8layers_5kernel._name = \"model_8layers_5kernel\""
   ]
  },
  {
   "cell_type": "code",
   "execution_count": null,
   "id": "d3ada527-87dc-4059-a0fc-de21a755b0ae",
   "metadata": {
    "tags": []
   },
   "outputs": [],
   "source": [
    "model_16layers_3kernel = load_model(PATH_TO_WEIGHTS[\"16_layers_3_kernel_no_flat\"])"
   ]
  },
  {
   "cell_type": "code",
   "execution_count": null,
   "id": "56fac1af-9f89-4f5c-aeeb-5e18b2d74409",
   "metadata": {
    "tags": []
   },
   "outputs": [],
   "source": [
    "model_16layers_3kernel.trainable = False\n",
    "model_16layers_3kernel._name = \"model_16layers_3kernel\""
   ]
  },
  {
   "cell_type": "code",
   "execution_count": null,
   "id": "68eb1ae0-11fa-4385-844e-00ff5f591a1c",
   "metadata": {
    "tags": []
   },
   "outputs": [],
   "source": [
    "model_16layers_5kernel = load_model(PATH_TO_WEIGHTS[\"16_layers_5_kernel_no_flat\"])"
   ]
  },
  {
   "cell_type": "code",
   "execution_count": null,
   "id": "c3ddce8c-f86a-41c7-9b02-6e3dcc0a412b",
   "metadata": {
    "tags": []
   },
   "outputs": [],
   "source": [
    "model_16layers_5kernel.trainable = False\n",
    "model_16layers_5kernel._name = \"model_16layers_5kernel\""
   ]
  },
  {
   "cell_type": "markdown",
   "id": "c605c4bc-56fd-4d76-af2a-4e14ab302d08",
   "metadata": {},
   "source": [
    "# Understand Model Training"
   ]
  },
  {
   "cell_type": "code",
   "execution_count": null,
   "id": "afbd6315-2786-44a5-a053-e6e11028269e",
   "metadata": {
    "tags": []
   },
   "outputs": [],
   "source": [
    "HISTORY_PATH_BASE = \"/notebooks/data/results/{0}_{1}/model_{0}conv_{1}kernel/csv_logging/logsmodel_{0}conv_{1}kernel.csv\"\n",
    "PATH_TO_HISTORY = {\n",
    "    \"8_layers_3_kernel_no_flat\": HISTORY_PATH_BASE.format(8, 3),\n",
    "    \"8_layers_5_kernel_no_flat\": HISTORY_PATH_BASE.format(8, 5),\n",
    "    \"16_layers_3_kernel_no_flat\": HISTORY_PATH_BASE.format(16, 3),\n",
    "    \"16_layers_5_kernel_no_flat\": HISTORY_PATH_BASE.format(16, 5),\n",
    "}"
   ]
  },
  {
   "cell_type": "code",
   "execution_count": null,
   "id": "4c54063d-cdaf-4c96-8683-2ee55b629029",
   "metadata": {
    "tags": []
   },
   "outputs": [],
   "source": [
    "def read_csv_history(path: str) -> pd.DataFrame:\n",
    "    df = pd.read_csv(path)\n",
    "    df = df[df.epoch != 'epoch']\n",
    "    df = df.reset_index(drop=True)\n",
    "    df['index'] = df.index\n",
    "    df = df.loc[df.groupby(\"epoch\")[\"index\"].idxmax()]\n",
    "    df = df.astype(float)\n",
    "    df = df.sort_values(by=['epoch'], ascending=True)\n",
    "    df = df.reset_index(drop=True)\n",
    "    return df.copy()"
   ]
  },
  {
   "cell_type": "code",
   "execution_count": null,
   "id": "f2d99295-722c-403d-8184-50697e00d1c9",
   "metadata": {
    "tags": []
   },
   "outputs": [],
   "source": [
    "history_8layer_3kernel = read_csv_history(PATH_TO_HISTORY[\"8_layers_3_kernel_no_flat\"])\n",
    "history_8layer_5kernel = read_csv_history(PATH_TO_HISTORY[\"8_layers_5_kernel_no_flat\"])\n",
    "history_16layer_3kernel = read_csv_history(PATH_TO_HISTORY[\"16_layers_3_kernel_no_flat\"])\n",
    "history_16layer_5kernel = read_csv_history(PATH_TO_HISTORY[\"16_layers_5_kernel_no_flat\"])"
   ]
  },
  {
   "cell_type": "code",
   "execution_count": null,
   "id": "47f9021c-c367-406d-baaf-46518ff813db",
   "metadata": {
    "tags": []
   },
   "outputs": [],
   "source": [
    "histories = {\n",
    "    \"8_layers_3_kernel\": history_8layer_3kernel,\n",
    "    \"8_layers_5_kernel\": history_8layer_5kernel,\n",
    "    \"16_layers_3_kernel\": history_16layer_3kernel,\n",
    "    \"16_layers_5_kernel\": history_16layer_5kernel,\n",
    "}"
   ]
  },
  {
   "cell_type": "code",
   "execution_count": null,
   "id": "917d4356-9cb0-416c-9851-9ae7f7a148e7",
   "metadata": {
    "tags": []
   },
   "outputs": [],
   "source": [
    "def plot_all(histories_dict):\n",
    "    num_plots = len(histories_dict)\n",
    "    f, axs = plt.subplots(1, num_plots, sharey=True, figsize=(num_plots * 5,  5))\n",
    "    for idx, (key, history) in enumerate(histories_dict.items()):\n",
    "        axs[idx].plot(history.loss, label='training')\n",
    "        axs[idx].plot(history.val_loss, label='validation')\n",
    "        axs[idx].legend()\n",
    "        axs[idx].set_title(key)\n",
    "    plt.show()"
   ]
  },
  {
   "cell_type": "code",
   "execution_count": null,
   "id": "91de1876-7878-4e0b-997e-edd115811577",
   "metadata": {
    "tags": []
   },
   "outputs": [],
   "source": [
    "plot_all(histories)"
   ]
  },
  {
   "cell_type": "markdown",
   "id": "681606bd-3eab-4839-b4ac-9e03e8e8a035",
   "metadata": {},
   "source": [
    "# Load Dataset"
   ]
  },
  {
   "cell_type": "code",
   "execution_count": null,
   "id": "84e2e3a6-2e77-44fb-aa19-5c04aa0f9efa",
   "metadata": {
    "tags": []
   },
   "outputs": [],
   "source": [
    "IMAGE_DIR = \"/notebooks/data/LFWA+/COMPILED/compiled_lfwa+\"\n",
    "BASE_DIR = \"/notebooks/data/LFWA+/COMPILED\"\n",
    "ALL_PAIRS = \"compiled_lfwa+_all_pairs.csv\""
   ]
  },
  {
   "cell_type": "code",
   "execution_count": null,
   "id": "d0350130-96e6-49c4-9f8d-b827a2f4ac78",
   "metadata": {
    "tags": []
   },
   "outputs": [],
   "source": [
    "all_pairs =  pd.read_csv(\"{}/{}\".format(BASE_DIR, ALL_PAIRS))"
   ]
  },
  {
   "cell_type": "markdown",
   "id": "175338e8-53a1-4559-bfef-3ea76949666b",
   "metadata": {},
   "source": [
    "# Evaluation"
   ]
  },
  {
   "cell_type": "markdown",
   "id": "63fc9efb-0f4a-42ad-92e4-bf4b49eb21eb",
   "metadata": {},
   "source": [
    "## 8Layers - 3 Kernel Size"
   ]
  },
  {
   "cell_type": "code",
   "execution_count": null,
   "id": "277b5981-e101-4515-aab6-d6cb34e731a4",
   "metadata": {
    "tags": []
   },
   "outputs": [],
   "source": [
    "from BiasStudy.predictionKit import PredictionToolKit\n",
    "from BiasStudy.predictionKit import PredictionPlotKit"
   ]
  },
  {
   "cell_type": "code",
   "execution_count": null,
   "id": "a3b47798-2666-4b0d-be34-1bec1c7a3aaa",
   "metadata": {
    "tags": []
   },
   "outputs": [],
   "source": [
    "model_8layers_3kernel_wit_flat_result = PredictionToolKit.predict(\n",
    "    feature_name = 'binary_race',\n",
    "    unique_image_id_col_name = 'image_id',\n",
    "    file_path_col_name = 'file_path',\n",
    "    pair_id_col_name = 'gid',\n",
    "    y_col = 'y_match_per_group',\n",
    "    image_dir = IMAGE_DIR,\n",
    "    dataset = all_pairs,\n",
    "    model = model_8layers_3kernel_with_flat,\n",
    "    verbose = 0, \n",
    "    best_threshold_method = 'gmeans'\n",
    ")"
   ]
  },
  {
   "cell_type": "code",
   "execution_count": null,
   "id": "3ab6bf56-062d-4563-b4b1-f701ccbad748",
   "metadata": {
    "tags": []
   },
   "outputs": [],
   "source": [
    "print(model_8layers_3kernel_wit_flat_result)"
   ]
  },
  {
   "cell_type": "code",
   "execution_count": null,
   "id": "71b03d7b-5ee9-4bea-bd31-0c575374aad5",
   "metadata": {
    "tags": []
   },
   "outputs": [],
   "source": [
    "PredictionPlotKit.plot_roc(model_8layers_3kernel_wit_flat_result)"
   ]
  },
  {
   "cell_type": "code",
   "execution_count": null,
   "id": "81a1f080-c16b-49e7-b536-1e2c9208e3d2",
   "metadata": {
    "tags": []
   },
   "outputs": [],
   "source": [
    "model_8layers_3kernel_result = PredictionToolKit.predict(\n",
    "    feature_name = 'binary_race',\n",
    "    unique_image_id_col_name = 'image_id',\n",
    "    file_path_col_name = 'file_path',\n",
    "    pair_id_col_name = 'gid',\n",
    "    y_col = 'y_match_per_group',\n",
    "    image_dir = IMAGE_DIR,\n",
    "    dataset = all_pairs,\n",
    "    model = model_8layers_3kernel,\n",
    "    verbose = 0, \n",
    "    best_threshold_method = 'gmeans'\n",
    ")"
   ]
  },
  {
   "cell_type": "code",
   "execution_count": null,
   "id": "5283b617-6853-4f4a-8a62-652255afb7c7",
   "metadata": {
    "tags": []
   },
   "outputs": [],
   "source": [
    "print(model_8layers_3kernel_result)"
   ]
  },
  {
   "cell_type": "code",
   "execution_count": null,
   "id": "4612bf6f-6595-4717-ba8e-b87a8df33600",
   "metadata": {
    "tags": []
   },
   "outputs": [],
   "source": [
    "PredictionPlotKit.plot_roc(model_8layers_3kernel_result)"
   ]
  },
  {
   "cell_type": "markdown",
   "id": "dd363780-4132-4b5c-a623-a7e3143ca4c9",
   "metadata": {},
   "source": [
    "## 8Layers - 5 Kernel Size"
   ]
  },
  {
   "cell_type": "code",
   "execution_count": null,
   "id": "04834d23-980b-4e8e-bae8-b9877941874f",
   "metadata": {
    "tags": []
   },
   "outputs": [],
   "source": [
    "model_8layers_5kernel_result = PredictionToolKit.predict(\n",
    "    feature_name = 'binary_race',\n",
    "    unique_image_id_col_name = 'image_id',\n",
    "    file_path_col_name = 'file_path',\n",
    "    pair_id_col_name = 'gid',\n",
    "    y_col = 'y_match_per_group',\n",
    "    image_dir = IMAGE_DIR,\n",
    "    dataset = all_pairs,\n",
    "    model = model_8layers_5kernel,\n",
    "    verbose = 0, \n",
    "    best_threshold_method = 'gmeans'\n",
    ")"
   ]
  },
  {
   "cell_type": "code",
   "execution_count": null,
   "id": "0d0f2337-3e0b-465b-ac44-61474481653d",
   "metadata": {
    "tags": []
   },
   "outputs": [],
   "source": [
    "print(model_8layers_5kernel_result)"
   ]
  },
  {
   "cell_type": "code",
   "execution_count": null,
   "id": "2c9b94e1-87a8-4191-9954-14afb12f9f27",
   "metadata": {
    "tags": []
   },
   "outputs": [],
   "source": [
    "PredictionPlotKit.plot_roc(model_8layers_5kernel_result)"
   ]
  },
  {
   "cell_type": "markdown",
   "id": "f1e0af50-5837-4e97-9bdc-474cbd119c7c",
   "metadata": {},
   "source": [
    "## 16Layers - 3 Kernel Size"
   ]
  },
  {
   "cell_type": "code",
   "execution_count": null,
   "id": "5ec42cf6-fe13-474e-9bf1-ac22da0552f4",
   "metadata": {
    "tags": []
   },
   "outputs": [],
   "source": [
    "model_16layers_3kernel_result = PredictionToolKit.predict(\n",
    "    feature_name = 'binary_race',\n",
    "    unique_image_id_col_name = 'image_id',\n",
    "    file_path_col_name = 'file_path',\n",
    "    pair_id_col_name = 'gid',\n",
    "    y_col = 'y_match_per_group',\n",
    "    image_dir = IMAGE_DIR,\n",
    "    dataset = all_pairs,\n",
    "    model = model_16layers_3kernel,\n",
    "    verbose = 0, \n",
    "    best_threshold_method = 'gmeans'\n",
    ")"
   ]
  },
  {
   "cell_type": "code",
   "execution_count": null,
   "id": "4db756a2-4634-4170-8c33-3e2cee2403a6",
   "metadata": {
    "tags": []
   },
   "outputs": [],
   "source": [
    "print(model_16layers_3kernel_result)"
   ]
  },
  {
   "cell_type": "code",
   "execution_count": null,
   "id": "8c2bd036-cce8-4650-9049-8b05689fccea",
   "metadata": {
    "tags": []
   },
   "outputs": [],
   "source": [
    "PredictionPlotKit.plot_roc(model_16layers_3kernel_result)"
   ]
  },
  {
   "cell_type": "markdown",
   "id": "3d1bc7a9-77d8-4fcc-9c7f-0c1cca09f8ee",
   "metadata": {},
   "source": [
    "## 16Layers - 5Kernel Size"
   ]
  },
  {
   "cell_type": "code",
   "execution_count": null,
   "id": "80c94f03-a359-4654-8ab8-56c0940d6311",
   "metadata": {
    "tags": []
   },
   "outputs": [],
   "source": [
    "model_16layers_5kernel_result = PredictionToolKit.predict(\n",
    "    feature_name = 'binary_race',\n",
    "    unique_image_id_col_name = 'image_id',\n",
    "    file_path_col_name = 'file_path',\n",
    "    pair_id_col_name = 'gid',\n",
    "    y_col = 'y_match_per_group',\n",
    "    image_dir = IMAGE_DIR,\n",
    "    dataset = all_pairs,\n",
    "    model = model_16layers_5kernel,\n",
    "    verbose = 0, \n",
    "    best_threshold_method = 'gmeans'\n",
    ")"
   ]
  },
  {
   "cell_type": "code",
   "execution_count": null,
   "id": "f1f003ec-c105-4182-9de1-fb191729d2d5",
   "metadata": {
    "tags": []
   },
   "outputs": [],
   "source": [
    "print(model_16layers_5kernel_result)"
   ]
  },
  {
   "cell_type": "code",
   "execution_count": null,
   "id": "53a74cc5-0482-493c-b4a7-6b1a8191bc2c",
   "metadata": {
    "tags": []
   },
   "outputs": [],
   "source": [
    "PredictionPlotKit.plot_roc(model_16layers_5kernel_result)"
   ]
  },
  {
   "cell_type": "markdown",
   "id": "97822536-5e5a-429c-af63-725f6dbf9271",
   "metadata": {},
   "source": [
    "## ALL"
   ]
  },
  {
   "cell_type": "code",
   "execution_count": null,
   "id": "9120395a-edd6-44e9-a6db-a15c965294c1",
   "metadata": {
    "tags": []
   },
   "outputs": [],
   "source": [
    "PredictionPlotKit.plot_multiple_roc(\n",
    "    [\n",
    "        model_8layers_3kernel_result,\n",
    "        model_8layers_5kernel_result,\n",
    "        model_16layers_3kernel_result,\n",
    "        model_16layers_5kernel_result,\n",
    "        model_8layers_3kernel_wit_flat_result\n",
    "    ]\n",
    ")"
   ]
  }
 ],
 "metadata": {
  "kernelspec": {
   "display_name": "Python 3 (ipykernel)",
   "language": "python",
   "name": "python3"
  },
  "language_info": {
   "codemirror_mode": {
    "name": "ipython",
    "version": 3
   },
   "file_extension": ".py",
   "mimetype": "text/x-python",
   "name": "python",
   "nbconvert_exporter": "python",
   "pygments_lexer": "ipython3",
   "version": "3.8.19"
  }
 },
 "nbformat": 4,
 "nbformat_minor": 5
}
