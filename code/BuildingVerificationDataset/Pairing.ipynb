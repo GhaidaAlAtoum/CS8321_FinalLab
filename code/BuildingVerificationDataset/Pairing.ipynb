{
 "cells": [
  {
   "cell_type": "code",
   "execution_count": 1,
   "id": "f7cd5d3d-26e5-4d22-b8e5-f57fbeaa08e4",
   "metadata": {
    "tags": []
   },
   "outputs": [],
   "source": [
    "import os\n",
    "import sys\n",
    "import numpy as np\n",
    "import pandas as pd"
   ]
  },
  {
   "cell_type": "code",
   "execution_count": 2,
   "id": "a4ea13be-763f-46ba-9521-1a51238f332f",
   "metadata": {
    "tags": []
   },
   "outputs": [],
   "source": [
    "BASE_DIR = \"/notebooks/data/LFWA+/COMPILED\"\n",
    "ORIG_CSV = \"compiled_lfwa+.csv\"\n",
    "LIGH_PAIRS = \"compiled_lfwa+_light_pairs.csv\"\n",
    "DARK_PAIRS = \"compiled_lfwa+_dark_pairs.csv\"\n",
    "ALL_PAIRS = \"compiled_lfwa+_all_pairs.csv\""
   ]
  },
  {
   "cell_type": "code",
   "execution_count": 47,
   "id": "4964a085-d473-477f-abf6-916ca1d8addb",
   "metadata": {
    "tags": []
   },
   "outputs": [],
   "source": [
    "df = pd.read_csv(\"{}/{}\".format(BASE_DIR, ORIG_CSV))"
   ]
  },
  {
   "cell_type": "code",
   "execution_count": 50,
   "id": "c43bbfb6-2544-4e7c-bce4-2d2ae4f6b2a4",
   "metadata": {
    "tags": []
   },
   "outputs": [],
   "source": [
    "df['image_id'] = df.groupby('file_path').grouper.group_info[0]"
   ]
  },
  {
   "cell_type": "code",
   "execution_count": 51,
   "id": "fa729211-f72a-4d52-bee6-00557301cc71",
   "metadata": {
    "tags": []
   },
   "outputs": [],
   "source": [
    "df_light = df.loc[df['binary_race'] == 'light'].copy()"
   ]
  },
  {
   "cell_type": "code",
   "execution_count": 6,
   "id": "7eac0296-f419-4ad1-adc8-fac77fcafaf4",
   "metadata": {
    "tags": []
   },
   "outputs": [],
   "source": [
    "df_dark = df.loc[df['binary_race'] == 'dark'].copy()"
   ]
  },
  {
   "cell_type": "code",
   "execution_count": 7,
   "id": "37a16dce-6e18-4b03-a346-691e15ec07de",
   "metadata": {
    "tags": []
   },
   "outputs": [],
   "source": [
    "df_light['gid'] = df_light.groupby('name').grouper.group_info[0]"
   ]
  },
  {
   "cell_type": "code",
   "execution_count": 8,
   "id": "9c62f50e-99a7-4c1e-878b-a3c944bfcbb9",
   "metadata": {
    "tags": []
   },
   "outputs": [],
   "source": [
    "df_dark['gid'] = df_dark.groupby('name').grouper.group_info[0] + df_light['gid'].unique().max() + 1"
   ]
  },
  {
   "cell_type": "code",
   "execution_count": 9,
   "id": "59b44624-1e30-4683-84f3-087f3844590c",
   "metadata": {
    "tags": []
   },
   "outputs": [],
   "source": [
    "df_light['y_match_per_group'] = 1"
   ]
  },
  {
   "cell_type": "code",
   "execution_count": 10,
   "id": "bab5e492-ed9c-48b4-ac82-7e1b43e954c3",
   "metadata": {
    "tags": []
   },
   "outputs": [],
   "source": [
    "df_dark['y_match_per_group'] = 1"
   ]
  },
  {
   "cell_type": "code",
   "execution_count": 11,
   "id": "0af9672e-16f3-43fc-ad83-b456d0f517a8",
   "metadata": {
    "tags": []
   },
   "outputs": [],
   "source": [
    "def getRandomBaseGid(exclude_gid, min_gid, max_gid):\n",
    "    return np.random.choice(np.setdiff1d(range(min_gid, max_gid), exclude_gid))"
   ]
  },
  {
   "cell_type": "code",
   "execution_count": 12,
   "id": "b20793d7-6389-408e-bed2-550e5b608951",
   "metadata": {
    "tags": []
   },
   "outputs": [],
   "source": [
    "base_group_ids_light = df_light['gid'].unique()\n",
    "min_base_gid_light = base_group_ids_light.min()\n",
    "max_base_gid_light = base_group_ids_light.max()"
   ]
  },
  {
   "cell_type": "code",
   "execution_count": 13,
   "id": "2c559094-5ca5-455c-a144-6637833630bc",
   "metadata": {
    "tags": []
   },
   "outputs": [],
   "source": [
    "new_gid_light = df_dark['gid'].unique().max() + 1"
   ]
  },
  {
   "cell_type": "code",
   "execution_count": 14,
   "id": "538cbec0-914f-4fe1-9fe8-f1ad584c6f62",
   "metadata": {
    "tags": []
   },
   "outputs": [
    {
     "data": {
      "text/html": [
       "<div>\n",
       "<style scoped>\n",
       "    .dataframe tbody tr th:only-of-type {\n",
       "        vertical-align: middle;\n",
       "    }\n",
       "\n",
       "    .dataframe tbody tr th {\n",
       "        vertical-align: top;\n",
       "    }\n",
       "\n",
       "    .dataframe thead th {\n",
       "        text-align: right;\n",
       "    }\n",
       "</style>\n",
       "<table border=\"1\" class=\"dataframe\">\n",
       "  <thead>\n",
       "    <tr style=\"text-align: right;\">\n",
       "      <th></th>\n",
       "      <th>name</th>\n",
       "      <th>file_path</th>\n",
       "      <th>binary_race</th>\n",
       "      <th>image_id</th>\n",
       "      <th>gid</th>\n",
       "      <th>y_match_per_group</th>\n",
       "    </tr>\n",
       "  </thead>\n",
       "  <tbody>\n",
       "    <tr>\n",
       "      <th>0</th>\n",
       "      <td>Aaron_Peirsol</td>\n",
       "      <td>Aaron_Peirsol/Aaron_Peirsol_0001.jpg</td>\n",
       "      <td>light</td>\n",
       "      <td>0</td>\n",
       "      <td>0</td>\n",
       "      <td>1</td>\n",
       "    </tr>\n",
       "    <tr>\n",
       "      <th>1</th>\n",
       "      <td>Aaron_Peirsol</td>\n",
       "      <td>Aaron_Peirsol/Aaron_Peirsol_0002.jpg</td>\n",
       "      <td>light</td>\n",
       "      <td>1</td>\n",
       "      <td>0</td>\n",
       "      <td>1</td>\n",
       "    </tr>\n",
       "    <tr>\n",
       "      <th>2</th>\n",
       "      <td>Aaron_Sorkin</td>\n",
       "      <td>Aaron_Sorkin/Aaron_Sorkin_0001.jpg</td>\n",
       "      <td>light</td>\n",
       "      <td>2</td>\n",
       "      <td>1</td>\n",
       "      <td>1</td>\n",
       "    </tr>\n",
       "    <tr>\n",
       "      <th>3</th>\n",
       "      <td>Aaron_Sorkin</td>\n",
       "      <td>Aaron_Sorkin/Aaron_Sorkin_0002.jpg</td>\n",
       "      <td>light</td>\n",
       "      <td>3</td>\n",
       "      <td>1</td>\n",
       "      <td>1</td>\n",
       "    </tr>\n",
       "    <tr>\n",
       "      <th>4</th>\n",
       "      <td>Abdullah</td>\n",
       "      <td>Abdullah/Abdullah_0001.jpg</td>\n",
       "      <td>light</td>\n",
       "      <td>6</td>\n",
       "      <td>2</td>\n",
       "      <td>1</td>\n",
       "    </tr>\n",
       "    <tr>\n",
       "      <th>...</th>\n",
       "      <td>...</td>\n",
       "      <td>...</td>\n",
       "      <td>...</td>\n",
       "      <td>...</td>\n",
       "      <td>...</td>\n",
       "      <td>...</td>\n",
       "    </tr>\n",
       "    <tr>\n",
       "      <th>227</th>\n",
       "      <td>Alimzhan_Tokhtakhounov</td>\n",
       "      <td>Alimzhan_Tokhtakhounov/Alimzhan_Tokhtakhounov_...</td>\n",
       "      <td>light</td>\n",
       "      <td>78</td>\n",
       "      <td>171</td>\n",
       "      <td>0</td>\n",
       "    </tr>\n",
       "    <tr>\n",
       "      <th>228</th>\n",
       "      <td>Andrew_Niccol</td>\n",
       "      <td>Andrew_Niccol/Andrew_Niccol_0002.jpg</td>\n",
       "      <td>light</td>\n",
       "      <td>121</td>\n",
       "      <td>172</td>\n",
       "      <td>0</td>\n",
       "    </tr>\n",
       "    <tr>\n",
       "      <th>229</th>\n",
       "      <td>Al_Pacino</td>\n",
       "      <td>Al_Pacino/Al_Pacino_0002.jpg</td>\n",
       "      <td>light</td>\n",
       "      <td>39</td>\n",
       "      <td>172</td>\n",
       "      <td>0</td>\n",
       "    </tr>\n",
       "    <tr>\n",
       "      <th>230</th>\n",
       "      <td>Andrew_Weissmann</td>\n",
       "      <td>Andrew_Weissmann/Andrew_Weissmann_0001.jpg</td>\n",
       "      <td>light</td>\n",
       "      <td>122</td>\n",
       "      <td>173</td>\n",
       "      <td>0</td>\n",
       "    </tr>\n",
       "    <tr>\n",
       "      <th>231</th>\n",
       "      <td>Ai_Sugiyama</td>\n",
       "      <td>Ai_Sugiyama/Ai_Sugiyama_0002.jpg</td>\n",
       "      <td>light</td>\n",
       "      <td>29</td>\n",
       "      <td>173</td>\n",
       "      <td>0</td>\n",
       "    </tr>\n",
       "  </tbody>\n",
       "</table>\n",
       "<p>232 rows × 6 columns</p>\n",
       "</div>"
      ],
      "text/plain": [
       "                       name  \\\n",
       "0             Aaron_Peirsol   \n",
       "1             Aaron_Peirsol   \n",
       "2              Aaron_Sorkin   \n",
       "3              Aaron_Sorkin   \n",
       "4                  Abdullah   \n",
       "..                      ...   \n",
       "227  Alimzhan_Tokhtakhounov   \n",
       "228           Andrew_Niccol   \n",
       "229               Al_Pacino   \n",
       "230        Andrew_Weissmann   \n",
       "231             Ai_Sugiyama   \n",
       "\n",
       "                                             file_path binary_race  image_id  \\\n",
       "0                 Aaron_Peirsol/Aaron_Peirsol_0001.jpg       light         0   \n",
       "1                 Aaron_Peirsol/Aaron_Peirsol_0002.jpg       light         1   \n",
       "2                   Aaron_Sorkin/Aaron_Sorkin_0001.jpg       light         2   \n",
       "3                   Aaron_Sorkin/Aaron_Sorkin_0002.jpg       light         3   \n",
       "4                           Abdullah/Abdullah_0001.jpg       light         6   \n",
       "..                                                 ...         ...       ...   \n",
       "227  Alimzhan_Tokhtakhounov/Alimzhan_Tokhtakhounov_...       light        78   \n",
       "228               Andrew_Niccol/Andrew_Niccol_0002.jpg       light       121   \n",
       "229                       Al_Pacino/Al_Pacino_0002.jpg       light        39   \n",
       "230         Andrew_Weissmann/Andrew_Weissmann_0001.jpg       light       122   \n",
       "231                   Ai_Sugiyama/Ai_Sugiyama_0002.jpg       light        29   \n",
       "\n",
       "     gid  y_match_per_group  \n",
       "0      0                  1  \n",
       "1      0                  1  \n",
       "2      1                  1  \n",
       "3      1                  1  \n",
       "4      2                  1  \n",
       "..   ...                ...  \n",
       "227  171                  0  \n",
       "228  172                  0  \n",
       "229  172                  0  \n",
       "230  173                  0  \n",
       "231  173                  0  \n",
       "\n",
       "[232 rows x 6 columns]"
      ]
     },
     "execution_count": 14,
     "metadata": {},
     "output_type": "execute_result"
    }
   ],
   "source": [
    "mixed_light = {}\n",
    "num_mix_per_group = 1\n",
    "df_light_finalized = df_light.copy()\n",
    "for gid in base_group_ids_light:\n",
    "    for i in range(0, num_mix_per_group):\n",
    "        mix_with = None\n",
    "        if gid not in mixed_light:\n",
    "            mix_with = getRandomBaseGid([], min_base_gid_light, max_base_gid_light)\n",
    "            # print(\"Mix {} with {}\".format(gid, mix_with))\n",
    "            mixed_light[gid] = [mix_with]\n",
    "        else:\n",
    "            mix_with = getRandomBaseGid(mixed[gid], min_base_gid_light, max_base_gid_light)\n",
    "            # print(\"Mix {} with {} - Exclude {}\".format(gid, mix_with, mixed_light[gid]))\n",
    "            mixed_light[gid].append(mix_with)\n",
    "        # print(\"New Group {}\".format(new_gid_light))\n",
    "        im1 = df_light.loc[df_light['gid'] == gid].sample(1).copy()\n",
    "        im2 = df_light.loc[df_light['gid'] == mix_with].sample(1).copy()\n",
    "        im1['gid'] = new_gid_light\n",
    "        im2['gid'] = new_gid_light\n",
    "        im1['y_match_per_group'] = 0\n",
    "        im2['y_match_per_group'] = 0\n",
    "        df_light_finalized = pd.concat([df_light_finalized, im1, im2], ignore_index = True) \n",
    "    new_gid_light += 1\n",
    "df_light_finalized.reset_index(drop=True)"
   ]
  },
  {
   "cell_type": "code",
   "execution_count": 15,
   "id": "559f247d-72d7-4f4c-a0a1-25ab434dc02d",
   "metadata": {
    "tags": []
   },
   "outputs": [],
   "source": [
    "df_light_finalized.to_csv(\"{}/{}\".format(BASE_DIR, LIGH_PAIRS), index=False)"
   ]
  },
  {
   "cell_type": "code",
   "execution_count": 16,
   "id": "fb055384-9757-4a82-8555-edec68fb6ac9",
   "metadata": {
    "tags": []
   },
   "outputs": [],
   "source": [
    "new_gid_dark = df_light_finalized['gid'].unique().max() + 1"
   ]
  },
  {
   "cell_type": "code",
   "execution_count": 17,
   "id": "0fc6d0e3-e257-47fe-9082-14123aa1d18a",
   "metadata": {
    "tags": []
   },
   "outputs": [],
   "source": [
    "base_group_ids_dark = df_dark['gid'].unique()\n",
    "min_base_gid_dark = base_group_ids_dark.min()\n",
    "max_base_gid_dark = base_group_ids_dark.max()"
   ]
  },
  {
   "cell_type": "code",
   "execution_count": 18,
   "id": "3fa4b30a-5b83-4d38-9d9f-1f1a2ae7a6d1",
   "metadata": {
    "tags": []
   },
   "outputs": [
    {
     "data": {
      "text/html": [
       "<div>\n",
       "<style scoped>\n",
       "    .dataframe tbody tr th:only-of-type {\n",
       "        vertical-align: middle;\n",
       "    }\n",
       "\n",
       "    .dataframe tbody tr th {\n",
       "        vertical-align: top;\n",
       "    }\n",
       "\n",
       "    .dataframe thead th {\n",
       "        text-align: right;\n",
       "    }\n",
       "</style>\n",
       "<table border=\"1\" class=\"dataframe\">\n",
       "  <thead>\n",
       "    <tr style=\"text-align: right;\">\n",
       "      <th></th>\n",
       "      <th>name</th>\n",
       "      <th>file_path</th>\n",
       "      <th>binary_race</th>\n",
       "      <th>image_id</th>\n",
       "      <th>gid</th>\n",
       "      <th>y_match_per_group</th>\n",
       "    </tr>\n",
       "  </thead>\n",
       "  <tbody>\n",
       "    <tr>\n",
       "      <th>0</th>\n",
       "      <td>Abdel_Nasser_Assidi</td>\n",
       "      <td>Abdel_Nasser_Assidi/Abdel_Nasser_Assidi_0001.jpg</td>\n",
       "      <td>dark</td>\n",
       "      <td>4</td>\n",
       "      <td>58</td>\n",
       "      <td>1</td>\n",
       "    </tr>\n",
       "    <tr>\n",
       "      <th>1</th>\n",
       "      <td>Abdel_Nasser_Assidi</td>\n",
       "      <td>Abdel_Nasser_Assidi/Abdel_Nasser_Assidi_0002.jpg</td>\n",
       "      <td>dark</td>\n",
       "      <td>5</td>\n",
       "      <td>58</td>\n",
       "      <td>1</td>\n",
       "    </tr>\n",
       "    <tr>\n",
       "      <th>2</th>\n",
       "      <td>Abid_Hamid_Mahmud_Al-Tikriti</td>\n",
       "      <td>Abid_Hamid_Mahmud_Al-Tikriti/Abid_Hamid_Mahmud...</td>\n",
       "      <td>dark</td>\n",
       "      <td>10</td>\n",
       "      <td>59</td>\n",
       "      <td>1</td>\n",
       "    </tr>\n",
       "    <tr>\n",
       "      <th>3</th>\n",
       "      <td>Abid_Hamid_Mahmud_Al-Tikriti</td>\n",
       "      <td>Abid_Hamid_Mahmud_Al-Tikriti/Abid_Hamid_Mahmud...</td>\n",
       "      <td>dark</td>\n",
       "      <td>11</td>\n",
       "      <td>59</td>\n",
       "      <td>1</td>\n",
       "    </tr>\n",
       "    <tr>\n",
       "      <th>4</th>\n",
       "      <td>Allyson_Felix</td>\n",
       "      <td>Allyson_Felix/Allyson_Felix_0001.jpg</td>\n",
       "      <td>dark</td>\n",
       "      <td>82</td>\n",
       "      <td>61</td>\n",
       "      <td>1</td>\n",
       "    </tr>\n",
       "    <tr>\n",
       "      <th>...</th>\n",
       "      <td>...</td>\n",
       "      <td>...</td>\n",
       "      <td>...</td>\n",
       "      <td>...</td>\n",
       "      <td>...</td>\n",
       "      <td>...</td>\n",
       "    </tr>\n",
       "    <tr>\n",
       "      <th>227</th>\n",
       "      <td>Al_Sharpton</td>\n",
       "      <td>Al_Sharpton/Al_Sharpton_0001.jpg</td>\n",
       "      <td>dark</td>\n",
       "      <td>40</td>\n",
       "      <td>229</td>\n",
       "      <td>0</td>\n",
       "    </tr>\n",
       "    <tr>\n",
       "      <th>228</th>\n",
       "      <td>Vince_Carter</td>\n",
       "      <td>Vince_Carter/Vince_Carter_0002.jpg</td>\n",
       "      <td>dark</td>\n",
       "      <td>229</td>\n",
       "      <td>230</td>\n",
       "      <td>0</td>\n",
       "    </tr>\n",
       "    <tr>\n",
       "      <th>229</th>\n",
       "      <td>Leander_Paes</td>\n",
       "      <td>Leander_Paes/Leander_Paes_0002.jpg</td>\n",
       "      <td>dark</td>\n",
       "      <td>187</td>\n",
       "      <td>230</td>\n",
       "      <td>0</td>\n",
       "    </tr>\n",
       "    <tr>\n",
       "      <th>230</th>\n",
       "      <td>Vivica_Fox</td>\n",
       "      <td>Vivica_Fox/Vivica_Fox_0001.jpg</td>\n",
       "      <td>dark</td>\n",
       "      <td>230</td>\n",
       "      <td>231</td>\n",
       "      <td>0</td>\n",
       "    </tr>\n",
       "    <tr>\n",
       "      <th>231</th>\n",
       "      <td>Leander_Paes</td>\n",
       "      <td>Leander_Paes/Leander_Paes_0001.jpg</td>\n",
       "      <td>dark</td>\n",
       "      <td>186</td>\n",
       "      <td>231</td>\n",
       "      <td>0</td>\n",
       "    </tr>\n",
       "  </tbody>\n",
       "</table>\n",
       "<p>232 rows × 6 columns</p>\n",
       "</div>"
      ],
      "text/plain": [
       "                             name  \\\n",
       "0             Abdel_Nasser_Assidi   \n",
       "1             Abdel_Nasser_Assidi   \n",
       "2    Abid_Hamid_Mahmud_Al-Tikriti   \n",
       "3    Abid_Hamid_Mahmud_Al-Tikriti   \n",
       "4                   Allyson_Felix   \n",
       "..                            ...   \n",
       "227                   Al_Sharpton   \n",
       "228                  Vince_Carter   \n",
       "229                  Leander_Paes   \n",
       "230                    Vivica_Fox   \n",
       "231                  Leander_Paes   \n",
       "\n",
       "                                             file_path binary_race  image_id  \\\n",
       "0     Abdel_Nasser_Assidi/Abdel_Nasser_Assidi_0001.jpg        dark         4   \n",
       "1     Abdel_Nasser_Assidi/Abdel_Nasser_Assidi_0002.jpg        dark         5   \n",
       "2    Abid_Hamid_Mahmud_Al-Tikriti/Abid_Hamid_Mahmud...        dark        10   \n",
       "3    Abid_Hamid_Mahmud_Al-Tikriti/Abid_Hamid_Mahmud...        dark        11   \n",
       "4                 Allyson_Felix/Allyson_Felix_0001.jpg        dark        82   \n",
       "..                                                 ...         ...       ...   \n",
       "227                   Al_Sharpton/Al_Sharpton_0001.jpg        dark        40   \n",
       "228                 Vince_Carter/Vince_Carter_0002.jpg        dark       229   \n",
       "229                 Leander_Paes/Leander_Paes_0002.jpg        dark       187   \n",
       "230                     Vivica_Fox/Vivica_Fox_0001.jpg        dark       230   \n",
       "231                 Leander_Paes/Leander_Paes_0001.jpg        dark       186   \n",
       "\n",
       "     gid  y_match_per_group  \n",
       "0     58                  1  \n",
       "1     58                  1  \n",
       "2     59                  1  \n",
       "3     59                  1  \n",
       "4     61                  1  \n",
       "..   ...                ...  \n",
       "227  229                  0  \n",
       "228  230                  0  \n",
       "229  230                  0  \n",
       "230  231                  0  \n",
       "231  231                  0  \n",
       "\n",
       "[232 rows x 6 columns]"
      ]
     },
     "execution_count": 18,
     "metadata": {},
     "output_type": "execute_result"
    }
   ],
   "source": [
    "mixed_dark = {}\n",
    "num_mix_per_group = 1\n",
    "df_dark_finalized = df_dark.copy()\n",
    "for gid in base_group_ids_dark:\n",
    "    for i in range(0, num_mix_per_group):\n",
    "        mix_with = None\n",
    "        if gid not in mixed_dark:\n",
    "            mix_with = getRandomBaseGid([], min_base_gid_dark, max_base_gid_dark)\n",
    "            # print(\"Mix {} with {}\".format(gid, mix_with))\n",
    "            mixed_dark[gid] = [mix_with]\n",
    "        else:\n",
    "            mix_with = getRandomBaseGid(mixed[gid], min_base_gid_dark, max_base_gid_dark)\n",
    "            # print(\"Mix {} with {} - Exclude {}\".format(gid, mix_with, mixed_dark[gid]))\n",
    "            mixed_dark[gid].append(mix_with)\n",
    "        # print(\"New Group {}\".format(new_gid_dark))\n",
    "        im1 = df_dark.loc[df_dark['gid'] == gid].sample(1).copy()\n",
    "        im2 = df_dark.loc[df_dark['gid'] == mix_with].sample(1).copy()\n",
    "        im1['gid'] = new_gid_dark\n",
    "        im2['gid'] = new_gid_dark\n",
    "        im1['y_match_per_group'] = 0\n",
    "        im2['y_match_per_group'] = 0\n",
    "        df_dark_finalized = pd.concat([df_dark_finalized, im1, im2], ignore_index = True) \n",
    "    new_gid_dark += 1\n",
    "df_dark_finalized.reset_index(drop=True)"
   ]
  },
  {
   "cell_type": "code",
   "execution_count": 19,
   "id": "31bee840-1ca2-4228-8571-f718aeb9ed39",
   "metadata": {
    "tags": []
   },
   "outputs": [],
   "source": [
    "df_dark_finalized.to_csv(\"{}/{}\".format(BASE_DIR, DARK_PAIRS), index=False)"
   ]
  },
  {
   "cell_type": "code",
   "execution_count": 20,
   "id": "ddf40dcc-b804-42f4-8199-55637024ce9f",
   "metadata": {
    "tags": []
   },
   "outputs": [],
   "source": [
    "df_all_pairs = pd.concat([df_light_finalized, df_dark_finalized], ignore_index = True) \n",
    "df_all_pairs.reset_index(drop=True)\n",
    "df_all_pairs.to_csv(\"{}/{}\".format(BASE_DIR, ALL_PAIRS), index=False)"
   ]
  }
 ],
 "metadata": {
  "kernelspec": {
   "display_name": "Python 3 (ipykernel)",
   "language": "python",
   "name": "python3"
  },
  "language_info": {
   "codemirror_mode": {
    "name": "ipython",
    "version": 3
   },
   "file_extension": ".py",
   "mimetype": "text/x-python",
   "name": "python",
   "nbconvert_exporter": "python",
   "pygments_lexer": "ipython3",
   "version": "3.8.19"
  }
 },
 "nbformat": 4,
 "nbformat_minor": 5
}
