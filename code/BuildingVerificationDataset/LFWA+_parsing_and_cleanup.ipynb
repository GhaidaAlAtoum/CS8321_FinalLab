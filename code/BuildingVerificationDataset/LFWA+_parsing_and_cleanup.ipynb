{
 "cells": [
  {
   "cell_type": "code",
   "execution_count": 2,
   "id": "9b625ab2-fed7-4426-99cb-fe5dfb5fdf4b",
   "metadata": {
    "tags": []
   },
   "outputs": [],
   "source": [
    "import os\n",
    "import sys\n",
    "import platform\n",
    "import numpy as np\n",
    "import tensorflow as tf\n",
    "import tensorflow.keras\n",
    "import h5py\n",
    "import numpy as np\n",
    "import pandas as pd"
   ]
  },
  {
   "cell_type": "code",
   "execution_count": 1,
   "id": "5ddbdb62-cba6-44bb-a569-d37f613d40d3",
   "metadata": {
    "tags": []
   },
   "outputs": [],
   "source": [
    "# Functions string, add_dtype_name, recusive_dict are from : \n",
    "# https://github.com/wondonghyeon/face-classification/blob/master/mat73_to_pickle.py#L12-L104"
   ]
  },
  {
   "cell_type": "code",
   "execution_count": 6,
   "id": "6ac0fb61-927f-4e6d-acb3-48b94b40f74a",
   "metadata": {
    "tags": []
   },
   "outputs": [],
   "source": [
    "dtypes = {}"
   ]
  },
  {
   "cell_type": "code",
   "execution_count": 7,
   "id": "d6e6d056-7a51-4dcc-a04c-38eb26d40791",
   "metadata": {
    "tags": []
   },
   "outputs": [],
   "source": [
    "def string(seq):\n",
    "    \"\"\"Convert a sequence of integers into a single string.\n",
    "    \"\"\"\n",
    "    return ''.join([chr(a[0]) for a in seq])"
   ]
  },
  {
   "cell_type": "code",
   "execution_count": 8,
   "id": "6193683e-b201-4940-8849-5da1b347b57c",
   "metadata": {
    "tags": []
   },
   "outputs": [],
   "source": [
    "def add_dtype_name(f, name):\n",
    "    \"\"\"Keep track of all dtypes and names in the HDF5 file using it.\n",
    "    \"\"\"\n",
    "    global dtypes\n",
    "    dtype = f.dtype         \n",
    "    if dtype.name not in dtypes:\n",
    "        dtypes[dtype.name] = [name]\n",
    "    else:\n",
    "        dtypes[dtype.name] = set([name])\n",
    "    return"
   ]
  },
  {
   "cell_type": "code",
   "execution_count": 9,
   "id": "a96a0947-9b6d-4756-b4bb-2746f1d4690b",
   "metadata": {
    "tags": []
   },
   "outputs": [],
   "source": [
    "def recursive_dict(f, root=None, name='root'):\n",
    "    \"\"\"This function recursively navigates the HDF5 structure from\n",
    "    node 'f' and tries to unpack the data structure by guessing their\n",
    "    content from dtype, shape etc.. It returns a dictionary of\n",
    "    strings, arrays and some leftovers. 'root' is the root node of the\n",
    "    HDF5 structure, i.e. what h5py.File() returns.\n",
    "\n",
    "    Note that this function works well on the Matlab7.3 datasets on\n",
    "    which it was tested, but in general it might be wrong and it might\n",
    "    crash. The motivation is that it has to guess the content of\n",
    "    substructures so it might fail. One source of headache seems to be\n",
    "    Matlab7.3 format that represents strings as array of 'uint16' so\n",
    "    not using the string datatype. For this reason it is not possible\n",
    "    to discriminate strings from arrays of integers without using\n",
    "    heuristics.\n",
    "    \"\"\"\n",
    "    if root is None: root = f\n",
    "    if hasattr(f, 'keys'):\n",
    "        a = dict(f)\n",
    "        if u'#refs#' in a.keys(): # we don't want to keep this\n",
    "            del(a[u'#refs#'])\n",
    "        for k in a.keys():\n",
    "            # print k\n",
    "            a[k] = recursive_dict(f[k], root, name=name+'->'+k)\n",
    "        return a\n",
    "    elif hasattr(f, 'shape'):\n",
    "        if f.dtype.name not in ['object', 'uint16']: # this is a numpy array\n",
    "            # Check shape to assess whether it can fit in memory\n",
    "            # or not. If not recast to a smaller dtype!\n",
    "            add_dtype_name(f, name)\n",
    "            dtype = f.dtype\n",
    "            if (np.prod(f.shape)*f.dtype.itemsize) > 2e9:\n",
    "                print(\"WARNING: The array\", name, \"requires > 2Gb\")\n",
    "                if f.dtype.char=='d':\n",
    "                    print(\"\\t Recasting\", dtype, \"to float32\")\n",
    "                    dtype = np.float32\n",
    "                else:\n",
    "                    raise MemoryError\n",
    "            return np.array(f, dtype=dtype).squeeze()\n",
    "        elif f.dtype.name in ['uint16']: # this may be a string for Matlab\n",
    "            add_dtype_name(f, name)\n",
    "            try:\n",
    "                return string(f)\n",
    "            except ValueError: # it wasn't...\n",
    "                print(\"WARNING:\", name, \":\")\n",
    "                print(\"\\t\", f)\n",
    "                print(\"\\t CONVERSION TO STRING FAILED, USING ARRAY!\")\n",
    "                tmp = np.array(f).squeeze()\n",
    "                print(\"\\t\", tmp)\n",
    "                return tmp\n",
    "            pass\n",
    "        elif f.dtype.name=='object': # this is a 2D array of HDF5 object references or just objects\n",
    "            add_dtype_name(f, name)\n",
    "            container = []\n",
    "            for i in range(f.shape[0]):\n",
    "                for j in range(f.shape[1]):\n",
    "                    if str(f[i][j])=='<HDF5 object reference>': # reference follow it:\n",
    "                        container.append(recursive_dict(root[f[i][j]], root, name=name))\n",
    "                    else:\n",
    "                        container.append(np.array(f[i][j]).squeeze())\n",
    "            try:\n",
    "                return np.array(container).squeeze()\n",
    "            except ValueError:\n",
    "                print(\"WARNING:\", name, \":\")\n",
    "                print(\"\\t\", container)\n",
    "                print(\"\\t CANNOT CONVERT INTO NON-OBJECT ARRAY\")\n",
    "                return np.array(container, dtype=np.object).squeeze()\n",
    "        else:\n",
    "            raise NotImplemented\n",
    "    else:\n",
    "        raise NotImplemented\n",
    "    return"
   ]
  },
  {
   "cell_type": "code",
   "execution_count": 60,
   "id": "65d2fc0c-fb0c-4b9a-8e2b-d90fba8342dd",
   "metadata": {
    "tags": []
   },
   "outputs": [],
   "source": [
    "filepath = '/notebooks/data/LFWA+/LFWA+/lfw_att_73.mat'\n",
    "arrays = {}\n",
    "f = h5py.File(filepath)\n",
    "data = recursive_dict(f)"
   ]
  },
  {
   "cell_type": "code",
   "execution_count": 97,
   "id": "efbb9cd2-1754-48e9-8410-1f17ceea22b1",
   "metadata": {
    "tags": []
   },
   "outputs": [],
   "source": [
    "# data"
   ]
  },
  {
   "cell_type": "code",
   "execution_count": 372,
   "id": "b82fcb62-10c3-4172-807a-c83d6a838fcc",
   "metadata": {
    "tags": []
   },
   "outputs": [],
   "source": [
    "df_label = pd.DataFrame(data['label'].T, columns=data['AttrName'], index=data['name'])\n",
    "# change \"\\\\\" to \"/\"\n",
    "df_label.index = [name.replace('\\\\', '/') for name in df_label.index]"
   ]
  },
  {
   "cell_type": "code",
   "execution_count": 373,
   "id": "1d6a5e99-14e1-4353-8016-577de877756a",
   "metadata": {
    "tags": []
   },
   "outputs": [],
   "source": [
    "df_label.drop(\n",
    "    [\n",
    "        'Male', 'Baby', 'Child', 'Youth',\n",
    "        'Middle Aged', 'Senior', 'Black Hair', 'Blond Hair', 'Brown Hair',\n",
    "        'Bald', 'No Eyewear', 'Eyeglasses', 'Sunglasses', 'Mustache',\n",
    "        'Smiling', 'Frowning', 'Chubby', 'Blurry', 'Harsh Lighting',\n",
    "        'Flash', 'Soft Lighting', 'Outdoor', 'Curly Hair', 'Wavy Hair',\n",
    "        'Straight Hair', 'Receding Hairline', 'Bangs', 'Sideburns',\n",
    "        'Fully Visible Forehead', 'Partially Visible Forehead',\n",
    "        'Obstructed Forehead', 'Bushy Eyebrows', 'Arched Eyebrows',\n",
    "        'Narrow Eyes', 'Eyes Open', 'Big Nose', 'Pointy Nose', 'Big Lips',\n",
    "        'Mouth Closed', 'Mouth Slightly Open', 'Mouth Wide Open',\n",
    "        'Teeth Not Visible', 'No Beard', 'Goatee', 'Round Jaw',\n",
    "        'Double Chin', 'Wearing Hat', 'Oval Face', 'Square Face',\n",
    "        'Round Face', 'Color Photo', 'Posed Photo', 'Attractive Man',\n",
    "        'Attractive Woman', 'Gray Hair', 'Bags Under Eyes',\n",
    "        'Heavy Makeup', 'Rosy Cheeks', 'Shiny Skin', 'Pale Skin',\n",
    "        '5 o Clock Shadow', 'Strong Nose-Mouth Lines', 'Wearing Lipstick',\n",
    "        'Flushed Face', 'High Cheekbones', 'Brown Eyes',\n",
    "        'Wearing Earrings', 'Wearing Necktie', 'Wearing Necklace'\n",
    "    ],\n",
    "    axis=1,\n",
    "    inplace=True\n",
    ")"
   ]
  },
  {
   "cell_type": "code",
   "execution_count": 374,
   "id": "802395c2-6bac-4050-876d-8446ff9c4131",
   "metadata": {
    "tags": []
   },
   "outputs": [],
   "source": [
    "df_label = df_label.reset_index()"
   ]
  },
  {
   "cell_type": "code",
   "execution_count": 375,
   "id": "ea105524-7f33-431d-ae11-bd4912bda679",
   "metadata": {
    "tags": []
   },
   "outputs": [],
   "source": [
    "df_label = df_label.rename(columns={\"index\": \"name\"})"
   ]
  },
  {
   "cell_type": "code",
   "execution_count": 376,
   "id": "9b3d2d45-7274-4492-af38-94aa9bbef0a1",
   "metadata": {
    "tags": []
   },
   "outputs": [],
   "source": [
    "df_label['file_path'] = df_label['name']\n",
    "# df_label['file_path'] = df_label['name'].apply(lambda x: \"{}/{}\".format(\"/notebooks/data/LFWA+/LFWA+/lfw\", x))"
   ]
  },
  {
   "cell_type": "code",
   "execution_count": 377,
   "id": "a9dedf94-2365-4183-b310-e012bb8fff79",
   "metadata": {
    "tags": []
   },
   "outputs": [],
   "source": [
    "df_label['name'] = df_label.apply(lambda x: x['name'].split(\"/\", 1)[0], axis=1)"
   ]
  },
  {
   "cell_type": "code",
   "execution_count": 378,
   "id": "3343a370-7749-4968-bf67-91cc581676b9",
   "metadata": {
    "tags": []
   },
   "outputs": [],
   "source": [
    "df_label.drop(\n",
    "    df_label.loc[\n",
    "        (df_label['White'] == 0) & \n",
    "        (df_label['Indian'] == 0) &\n",
    "        (df_label['Asian'] == 0) & \n",
    "        (df_label['Black'] == 0)\n",
    "    ].index,\n",
    "    inplace=True\n",
    ")"
   ]
  },
  {
   "cell_type": "code",
   "execution_count": 379,
   "id": "42ef44e3-4a26-46ac-86cf-ab9732ba4ef0",
   "metadata": {
    "tags": []
   },
   "outputs": [],
   "source": [
    "df_label.drop(\n",
    "    df_label.loc[df_label[['White', 'Asian', 'Black', 'Indian']].sum(axis=1) > 1].index,\n",
    "    inplace=True\n",
    ")"
   ]
  },
  {
   "cell_type": "code",
   "execution_count": 380,
   "id": "2bfc7db7-ec1d-461a-bba6-becaf5bf7ba4",
   "metadata": {
    "tags": []
   },
   "outputs": [],
   "source": [
    "df_label['count'] = df_label.groupby('name')['name'].transform('count')"
   ]
  },
  {
   "cell_type": "code",
   "execution_count": 381,
   "id": "da18e8d7-ac01-4cd6-8da8-26055142f434",
   "metadata": {
    "tags": []
   },
   "outputs": [],
   "source": [
    "df_label.drop(\n",
    "    df_label.loc[\n",
    "        (df_label['count'] < 2)\n",
    "    ].index,\n",
    "    inplace=True\n",
    ")"
   ]
  },
  {
   "cell_type": "code",
   "execution_count": 382,
   "id": "234f43ac-7d2a-4e0b-817c-12fb9dee2ed1",
   "metadata": {
    "tags": []
   },
   "outputs": [
    {
     "name": "stdout",
     "output_type": "stream",
     "text": [
      "White: 6680 - Black: 254 - Asian: 558 - indian: 98\n"
     ]
    }
   ],
   "source": [
    "white = df_label.loc[\n",
    "    (df_label['White'] == 1) &\n",
    "    (df_label['Indian'] == 0) &\n",
    "    (df_label['Asian'] == 0) & \n",
    "    (df_label['Black'] == 0)\n",
    "].shape[0]\n",
    "black = df_label.loc[\n",
    "    (df_label['Black'] == 1) & \n",
    "    (df_label['White'] == 0) & \n",
    "    (df_label['Indian'] == 0) &\n",
    "    (df_label['Asian'] == 0)\n",
    "].shape[0]\n",
    "asian = df_label.loc[\n",
    "    (df_label['Asian'] == 1) & \n",
    "    (df_label['White'] == 0) & \n",
    "    (df_label['Indian'] == 0) &\n",
    "    (df_label['Black'] == 0)\n",
    "].shape[0]\n",
    "indian = df_label.loc[\n",
    "    (df_label['Indian'] == 1) & \n",
    "    (df_label['White'] == 0) & \n",
    "    (df_label['Asian'] == 0) & \n",
    "    (df_label['Black'] == 0)\n",
    "].shape[0]\n",
    "print(\"White: {} - Black: {} - Asian: {} - indian: {}\".format(white, black, asian, indian))"
   ]
  },
  {
   "cell_type": "code",
   "execution_count": 383,
   "id": "836b2811-72d7-4e13-95f3-a571146acb83",
   "metadata": {
    "tags": []
   },
   "outputs": [
    {
     "data": {
      "text/html": [
       "<div>\n",
       "<style scoped>\n",
       "    .dataframe tbody tr th:only-of-type {\n",
       "        vertical-align: middle;\n",
       "    }\n",
       "\n",
       "    .dataframe tbody tr th {\n",
       "        vertical-align: top;\n",
       "    }\n",
       "\n",
       "    .dataframe thead th {\n",
       "        text-align: right;\n",
       "    }\n",
       "</style>\n",
       "<table border=\"1\" class=\"dataframe\">\n",
       "  <thead>\n",
       "    <tr style=\"text-align: right;\">\n",
       "      <th></th>\n",
       "      <th>name</th>\n",
       "      <th>Asian</th>\n",
       "      <th>White</th>\n",
       "      <th>Black</th>\n",
       "      <th>Indian</th>\n",
       "      <th>file_path</th>\n",
       "      <th>count</th>\n",
       "    </tr>\n",
       "  </thead>\n",
       "  <tbody>\n",
       "    <tr>\n",
       "      <th>15</th>\n",
       "      <td>Abdel_Nasser_Assidi</td>\n",
       "      <td>0.0</td>\n",
       "      <td>0.0</td>\n",
       "      <td>0.0</td>\n",
       "      <td>1.0</td>\n",
       "      <td>Abdel_Nasser_Assidi/Abdel_Nasser_Assidi_0001.jpg</td>\n",
       "      <td>2</td>\n",
       "    </tr>\n",
       "    <tr>\n",
       "      <th>16</th>\n",
       "      <td>Abdel_Nasser_Assidi</td>\n",
       "      <td>0.0</td>\n",
       "      <td>0.0</td>\n",
       "      <td>0.0</td>\n",
       "      <td>1.0</td>\n",
       "      <td>Abdel_Nasser_Assidi/Abdel_Nasser_Assidi_0002.jpg</td>\n",
       "      <td>2</td>\n",
       "    </tr>\n",
       "    <tr>\n",
       "      <th>17</th>\n",
       "      <td>Abdoulaye_Wade</td>\n",
       "      <td>0.0</td>\n",
       "      <td>0.0</td>\n",
       "      <td>1.0</td>\n",
       "      <td>0.0</td>\n",
       "      <td>Abdoulaye_Wade/Abdoulaye_Wade_0001.jpg</td>\n",
       "      <td>4</td>\n",
       "    </tr>\n",
       "    <tr>\n",
       "      <th>18</th>\n",
       "      <td>Abdoulaye_Wade</td>\n",
       "      <td>0.0</td>\n",
       "      <td>0.0</td>\n",
       "      <td>1.0</td>\n",
       "      <td>0.0</td>\n",
       "      <td>Abdoulaye_Wade/Abdoulaye_Wade_0002.jpg</td>\n",
       "      <td>4</td>\n",
       "    </tr>\n",
       "    <tr>\n",
       "      <th>20</th>\n",
       "      <td>Abdoulaye_Wade</td>\n",
       "      <td>0.0</td>\n",
       "      <td>0.0</td>\n",
       "      <td>1.0</td>\n",
       "      <td>0.0</td>\n",
       "      <td>Abdoulaye_Wade/Abdoulaye_Wade_0004.jpg</td>\n",
       "      <td>4</td>\n",
       "    </tr>\n",
       "    <tr>\n",
       "      <th>...</th>\n",
       "      <td>...</td>\n",
       "      <td>...</td>\n",
       "      <td>...</td>\n",
       "      <td>...</td>\n",
       "      <td>...</td>\n",
       "      <td>...</td>\n",
       "      <td>...</td>\n",
       "    </tr>\n",
       "    <tr>\n",
       "      <th>12757</th>\n",
       "      <td>Vladimir_Putin</td>\n",
       "      <td>0.0</td>\n",
       "      <td>0.0</td>\n",
       "      <td>1.0</td>\n",
       "      <td>0.0</td>\n",
       "      <td>Vladimir_Putin/Vladimir_Putin_0026.jpg</td>\n",
       "      <td>45</td>\n",
       "    </tr>\n",
       "    <tr>\n",
       "      <th>12789</th>\n",
       "      <td>Vojislav_Kostunica</td>\n",
       "      <td>0.0</td>\n",
       "      <td>0.0</td>\n",
       "      <td>1.0</td>\n",
       "      <td>0.0</td>\n",
       "      <td>Vojislav_Kostunica/Vojislav_Kostunica_0004.jpg</td>\n",
       "      <td>6</td>\n",
       "    </tr>\n",
       "    <tr>\n",
       "      <th>12986</th>\n",
       "      <td>Xanana_Gusmao</td>\n",
       "      <td>0.0</td>\n",
       "      <td>0.0</td>\n",
       "      <td>0.0</td>\n",
       "      <td>1.0</td>\n",
       "      <td>Xanana_Gusmao/Xanana_Gusmao_0004.jpg</td>\n",
       "      <td>2</td>\n",
       "    </tr>\n",
       "    <tr>\n",
       "      <th>13023</th>\n",
       "      <td>Yashwant_Sinha</td>\n",
       "      <td>0.0</td>\n",
       "      <td>0.0</td>\n",
       "      <td>0.0</td>\n",
       "      <td>1.0</td>\n",
       "      <td>Yashwant_Sinha/Yashwant_Sinha_0006.jpg</td>\n",
       "      <td>3</td>\n",
       "    </tr>\n",
       "    <tr>\n",
       "      <th>13092</th>\n",
       "      <td>Zafarullah_Khan_Jamali</td>\n",
       "      <td>0.0</td>\n",
       "      <td>0.0</td>\n",
       "      <td>1.0</td>\n",
       "      <td>0.0</td>\n",
       "      <td>Zafarullah_Khan_Jamali/Zafarullah_Khan_Jamali_...</td>\n",
       "      <td>2</td>\n",
       "    </tr>\n",
       "  </tbody>\n",
       "</table>\n",
       "<p>352 rows × 7 columns</p>\n",
       "</div>"
      ],
      "text/plain": [
       "                         name  Asian  White  Black  Indian  \\\n",
       "15        Abdel_Nasser_Assidi    0.0    0.0    0.0     1.0   \n",
       "16        Abdel_Nasser_Assidi    0.0    0.0    0.0     1.0   \n",
       "17             Abdoulaye_Wade    0.0    0.0    1.0     0.0   \n",
       "18             Abdoulaye_Wade    0.0    0.0    1.0     0.0   \n",
       "20             Abdoulaye_Wade    0.0    0.0    1.0     0.0   \n",
       "...                       ...    ...    ...    ...     ...   \n",
       "12757          Vladimir_Putin    0.0    0.0    1.0     0.0   \n",
       "12789      Vojislav_Kostunica    0.0    0.0    1.0     0.0   \n",
       "12986           Xanana_Gusmao    0.0    0.0    0.0     1.0   \n",
       "13023          Yashwant_Sinha    0.0    0.0    0.0     1.0   \n",
       "13092  Zafarullah_Khan_Jamali    0.0    0.0    1.0     0.0   \n",
       "\n",
       "                                               file_path  count  \n",
       "15      Abdel_Nasser_Assidi/Abdel_Nasser_Assidi_0001.jpg      2  \n",
       "16      Abdel_Nasser_Assidi/Abdel_Nasser_Assidi_0002.jpg      2  \n",
       "17                Abdoulaye_Wade/Abdoulaye_Wade_0001.jpg      4  \n",
       "18                Abdoulaye_Wade/Abdoulaye_Wade_0002.jpg      4  \n",
       "20                Abdoulaye_Wade/Abdoulaye_Wade_0004.jpg      4  \n",
       "...                                                  ...    ...  \n",
       "12757             Vladimir_Putin/Vladimir_Putin_0026.jpg     45  \n",
       "12789     Vojislav_Kostunica/Vojislav_Kostunica_0004.jpg      6  \n",
       "12986               Xanana_Gusmao/Xanana_Gusmao_0004.jpg      2  \n",
       "13023             Yashwant_Sinha/Yashwant_Sinha_0006.jpg      3  \n",
       "13092  Zafarullah_Khan_Jamali/Zafarullah_Khan_Jamali_...      2  \n",
       "\n",
       "[352 rows x 7 columns]"
      ]
     },
     "execution_count": 383,
     "metadata": {},
     "output_type": "execute_result"
    }
   ],
   "source": [
    "df_label.loc[(df_label['Black'] == 1) | (df_label['Indian'] == 1)]"
   ]
  },
  {
   "cell_type": "code",
   "execution_count": 384,
   "id": "b23b10ea-8eb3-4ab8-9ad0-c74355a7b6a2",
   "metadata": {
    "tags": []
   },
   "outputs": [],
   "source": [
    "df_label['binary_race'] = df_label.apply(\n",
    "    lambda row: 'light' if (row.White == 1) | (row.Asian == 1) else 'dark', axis=1\n",
    ")"
   ]
  },
  {
   "cell_type": "code",
   "execution_count": 385,
   "id": "d86abba8-e9d9-46d7-9933-e13ecd0cf4aa",
   "metadata": {
    "tags": []
   },
   "outputs": [],
   "source": [
    "b = df_label.groupby('name').binary_race.nunique() > 1"
   ]
  },
  {
   "cell_type": "code",
   "execution_count": 386,
   "id": "461f468b-c827-45c2-9c1d-5ebf88c8c08f",
   "metadata": {
    "tags": []
   },
   "outputs": [],
   "source": [
    "df_label = df_label[~df_label.name.isin(b[b].index)]"
   ]
  },
  {
   "cell_type": "code",
   "execution_count": 387,
   "id": "6d9cb7f4-1850-4fc7-9e0e-3cab06abd028",
   "metadata": {
    "tags": []
   },
   "outputs": [],
   "source": [
    "df_label = df_label.groupby('name').head(2).reset_index(drop=True).copy()"
   ]
  },
  {
   "cell_type": "code",
   "execution_count": 388,
   "id": "8918cfd1-d2fd-4737-a58d-ff3ffa3b8005",
   "metadata": {
    "tags": []
   },
   "outputs": [
    {
     "data": {
      "text/plain": [
       "[Text(0, 0, '116'), Text(0, 0, '2626')]"
      ]
     },
     "execution_count": 388,
     "metadata": {},
     "output_type": "execute_result"
    },
    {
     "data": {
      "image/png": "[encoded data removed]",
      "text/plain": [
       "<Figure size 640x480 with 1 Axes>"
      ]
     },
     "metadata": {},
     "output_type": "display_data"
    }
   ],
   "source": [
    "ax = df_label.binary_race.value_counts().sort_values().plot(kind='bar')\n",
    "ax.bar_label(ax.containers[0])"
   ]
  },
  {
   "cell_type": "code",
   "execution_count": 389,
   "id": "e9f29831-7d59-4db2-a677-07f5ce2d8fc3",
   "metadata": {
    "tags": []
   },
   "outputs": [],
   "source": [
    "light = df_label.loc[df_label['binary_race'] == 'light'].groupby('name').head(2)[:116].index.to_list()"
   ]
  },
  {
   "cell_type": "code",
   "execution_count": 390,
   "id": "faf06d55-28e4-4449-a659-c419720a35a8",
   "metadata": {
    "tags": []
   },
   "outputs": [],
   "source": [
    "dark = df_label.loc[df_label['binary_race'] == 'dark'].groupby('name').head(2)[:116].index.to_list()"
   ]
  },
  {
   "cell_type": "code",
   "execution_count": 391,
   "id": "377af6bc-4812-40dc-9598-e05041412ed1",
   "metadata": {
    "tags": []
   },
   "outputs": [],
   "source": [
    "light_dark_indicies = light + dark"
   ]
  },
  {
   "cell_type": "code",
   "execution_count": 392,
   "id": "f53f2447-27e5-4ba2-8119-e62d1a0f2ac3",
   "metadata": {
    "tags": []
   },
   "outputs": [],
   "source": [
    "final_df = df_label.iloc[light_dark_indicies].copy()"
   ]
  },
  {
   "cell_type": "code",
   "execution_count": 393,
   "id": "53630122-cdc8-484c-8bdc-a027dbda485c",
   "metadata": {
    "tags": []
   },
   "outputs": [
    {
     "data": {
      "text/plain": [
       "[Text(0, 0, '116'), Text(0, 0, '116')]"
      ]
     },
     "execution_count": 393,
     "metadata": {},
     "output_type": "execute_result"
    },
    {
     "data": {
      "image/png": "[encoded data removed]",
      "text/plain": [
       "<Figure size 640x480 with 1 Axes>"
      ]
     },
     "metadata": {},
     "output_type": "display_data"
    }
   ],
   "source": [
    "ax = final_df.binary_race.value_counts().sort_values().plot(kind='bar')\n",
    "ax.bar_label(ax.containers[0])"
   ]
  },
  {
   "cell_type": "code",
   "execution_count": 394,
   "id": "7089be71-4a49-469c-be66-663a6ba30aa8",
   "metadata": {
    "tags": []
   },
   "outputs": [
    {
     "data": {
      "text/html": [
       "<div>\n",
       "<style scoped>\n",
       "    .dataframe tbody tr th:only-of-type {\n",
       "        vertical-align: middle;\n",
       "    }\n",
       "\n",
       "    .dataframe tbody tr th {\n",
       "        vertical-align: top;\n",
       "    }\n",
       "\n",
       "    .dataframe thead th {\n",
       "        text-align: right;\n",
       "    }\n",
       "</style>\n",
       "<table border=\"1\" class=\"dataframe\">\n",
       "  <thead>\n",
       "    <tr style=\"text-align: right;\">\n",
       "      <th></th>\n",
       "      <th>name</th>\n",
       "      <th>Asian</th>\n",
       "      <th>White</th>\n",
       "      <th>Black</th>\n",
       "      <th>Indian</th>\n",
       "      <th>file_path</th>\n",
       "      <th>count</th>\n",
       "      <th>binary_race</th>\n",
       "    </tr>\n",
       "  </thead>\n",
       "  <tbody>\n",
       "    <tr>\n",
       "      <th>0</th>\n",
       "      <td>Aaron_Peirsol</td>\n",
       "      <td>0.0</td>\n",
       "      <td>1.0</td>\n",
       "      <td>0.0</td>\n",
       "      <td>0.0</td>\n",
       "      <td>Aaron_Peirsol/Aaron_Peirsol_0001.jpg</td>\n",
       "      <td>4</td>\n",
       "      <td>light</td>\n",
       "    </tr>\n",
       "    <tr>\n",
       "      <th>1</th>\n",
       "      <td>Aaron_Peirsol</td>\n",
       "      <td>0.0</td>\n",
       "      <td>1.0</td>\n",
       "      <td>0.0</td>\n",
       "      <td>0.0</td>\n",
       "      <td>Aaron_Peirsol/Aaron_Peirsol_0002.jpg</td>\n",
       "      <td>4</td>\n",
       "      <td>light</td>\n",
       "    </tr>\n",
       "    <tr>\n",
       "      <th>2</th>\n",
       "      <td>Aaron_Sorkin</td>\n",
       "      <td>0.0</td>\n",
       "      <td>1.0</td>\n",
       "      <td>0.0</td>\n",
       "      <td>0.0</td>\n",
       "      <td>Aaron_Sorkin/Aaron_Sorkin_0001.jpg</td>\n",
       "      <td>2</td>\n",
       "      <td>light</td>\n",
       "    </tr>\n",
       "    <tr>\n",
       "      <th>3</th>\n",
       "      <td>Aaron_Sorkin</td>\n",
       "      <td>0.0</td>\n",
       "      <td>1.0</td>\n",
       "      <td>0.0</td>\n",
       "      <td>0.0</td>\n",
       "      <td>Aaron_Sorkin/Aaron_Sorkin_0002.jpg</td>\n",
       "      <td>2</td>\n",
       "      <td>light</td>\n",
       "    </tr>\n",
       "    <tr>\n",
       "      <th>4</th>\n",
       "      <td>Abdullah</td>\n",
       "      <td>0.0</td>\n",
       "      <td>1.0</td>\n",
       "      <td>0.0</td>\n",
       "      <td>0.0</td>\n",
       "      <td>Abdullah/Abdullah_0001.jpg</td>\n",
       "      <td>3</td>\n",
       "      <td>light</td>\n",
       "    </tr>\n",
       "    <tr>\n",
       "      <th>...</th>\n",
       "      <td>...</td>\n",
       "      <td>...</td>\n",
       "      <td>...</td>\n",
       "      <td>...</td>\n",
       "      <td>...</td>\n",
       "      <td>...</td>\n",
       "      <td>...</td>\n",
       "      <td>...</td>\n",
       "    </tr>\n",
       "    <tr>\n",
       "      <th>227</th>\n",
       "      <td>Venus_Williams</td>\n",
       "      <td>0.0</td>\n",
       "      <td>0.0</td>\n",
       "      <td>1.0</td>\n",
       "      <td>0.0</td>\n",
       "      <td>Venus_Williams/Venus_Williams_0003.jpg</td>\n",
       "      <td>11</td>\n",
       "      <td>dark</td>\n",
       "    </tr>\n",
       "    <tr>\n",
       "      <th>228</th>\n",
       "      <td>Vince_Carter</td>\n",
       "      <td>0.0</td>\n",
       "      <td>0.0</td>\n",
       "      <td>1.0</td>\n",
       "      <td>0.0</td>\n",
       "      <td>Vince_Carter/Vince_Carter_0001.jpg</td>\n",
       "      <td>2</td>\n",
       "      <td>dark</td>\n",
       "    </tr>\n",
       "    <tr>\n",
       "      <th>229</th>\n",
       "      <td>Vince_Carter</td>\n",
       "      <td>0.0</td>\n",
       "      <td>0.0</td>\n",
       "      <td>1.0</td>\n",
       "      <td>0.0</td>\n",
       "      <td>Vince_Carter/Vince_Carter_0002.jpg</td>\n",
       "      <td>2</td>\n",
       "      <td>dark</td>\n",
       "    </tr>\n",
       "    <tr>\n",
       "      <th>230</th>\n",
       "      <td>Vivica_Fox</td>\n",
       "      <td>0.0</td>\n",
       "      <td>0.0</td>\n",
       "      <td>1.0</td>\n",
       "      <td>0.0</td>\n",
       "      <td>Vivica_Fox/Vivica_Fox_0001.jpg</td>\n",
       "      <td>2</td>\n",
       "      <td>dark</td>\n",
       "    </tr>\n",
       "    <tr>\n",
       "      <th>231</th>\n",
       "      <td>Vivica_Fox</td>\n",
       "      <td>0.0</td>\n",
       "      <td>0.0</td>\n",
       "      <td>1.0</td>\n",
       "      <td>0.0</td>\n",
       "      <td>Vivica_Fox/Vivica_Fox_0002.jpg</td>\n",
       "      <td>2</td>\n",
       "      <td>dark</td>\n",
       "    </tr>\n",
       "  </tbody>\n",
       "</table>\n",
       "<p>232 rows × 8 columns</p>\n",
       "</div>"
      ],
      "text/plain": [
       "               name  Asian  White  Black  Indian  \\\n",
       "0     Aaron_Peirsol    0.0    1.0    0.0     0.0   \n",
       "1     Aaron_Peirsol    0.0    1.0    0.0     0.0   \n",
       "2      Aaron_Sorkin    0.0    1.0    0.0     0.0   \n",
       "3      Aaron_Sorkin    0.0    1.0    0.0     0.0   \n",
       "4          Abdullah    0.0    1.0    0.0     0.0   \n",
       "..              ...    ...    ...    ...     ...   \n",
       "227  Venus_Williams    0.0    0.0    1.0     0.0   \n",
       "228    Vince_Carter    0.0    0.0    1.0     0.0   \n",
       "229    Vince_Carter    0.0    0.0    1.0     0.0   \n",
       "230      Vivica_Fox    0.0    0.0    1.0     0.0   \n",
       "231      Vivica_Fox    0.0    0.0    1.0     0.0   \n",
       "\n",
       "                                  file_path  count binary_race  \n",
       "0      Aaron_Peirsol/Aaron_Peirsol_0001.jpg      4       light  \n",
       "1      Aaron_Peirsol/Aaron_Peirsol_0002.jpg      4       light  \n",
       "2        Aaron_Sorkin/Aaron_Sorkin_0001.jpg      2       light  \n",
       "3        Aaron_Sorkin/Aaron_Sorkin_0002.jpg      2       light  \n",
       "4                Abdullah/Abdullah_0001.jpg      3       light  \n",
       "..                                      ...    ...         ...  \n",
       "227  Venus_Williams/Venus_Williams_0003.jpg     11        dark  \n",
       "228      Vince_Carter/Vince_Carter_0001.jpg      2        dark  \n",
       "229      Vince_Carter/Vince_Carter_0002.jpg      2        dark  \n",
       "230          Vivica_Fox/Vivica_Fox_0001.jpg      2        dark  \n",
       "231          Vivica_Fox/Vivica_Fox_0002.jpg      2        dark  \n",
       "\n",
       "[232 rows x 8 columns]"
      ]
     },
     "execution_count": 394,
     "metadata": {},
     "output_type": "execute_result"
    }
   ],
   "source": [
    "final_df.reset_index(drop=True)"
   ]
  },
  {
   "cell_type": "code",
   "execution_count": 395,
   "id": "e372b846-0761-43ff-955b-3a9dfd83a48e",
   "metadata": {
    "tags": []
   },
   "outputs": [],
   "source": [
    "final_df.drop(['count'], axis=1, inplace=True)"
   ]
  },
  {
   "cell_type": "code",
   "execution_count": 396,
   "id": "a0d4724d-2752-4783-91ee-0649c635ab5d",
   "metadata": {
    "tags": []
   },
   "outputs": [],
   "source": [
    "final_df.drop(['Asian', 'White', 'Black', 'Indian'], axis=1, inplace=True)"
   ]
  },
  {
   "cell_type": "code",
   "execution_count": 397,
   "id": "22cc20f7-cd26-46d5-9d42-b88084798b00",
   "metadata": {
    "tags": []
   },
   "outputs": [
    {
     "data": {
      "text/html": [
       "<div>\n",
       "<style scoped>\n",
       "    .dataframe tbody tr th:only-of-type {\n",
       "        vertical-align: middle;\n",
       "    }\n",
       "\n",
       "    .dataframe tbody tr th {\n",
       "        vertical-align: top;\n",
       "    }\n",
       "\n",
       "    .dataframe thead th {\n",
       "        text-align: right;\n",
       "    }\n",
       "</style>\n",
       "<table border=\"1\" class=\"dataframe\">\n",
       "  <thead>\n",
       "    <tr style=\"text-align: right;\">\n",
       "      <th></th>\n",
       "      <th>name</th>\n",
       "      <th>file_path</th>\n",
       "      <th>binary_race</th>\n",
       "    </tr>\n",
       "  </thead>\n",
       "  <tbody>\n",
       "    <tr>\n",
       "      <th>0</th>\n",
       "      <td>Aaron_Peirsol</td>\n",
       "      <td>Aaron_Peirsol/Aaron_Peirsol_0001.jpg</td>\n",
       "      <td>light</td>\n",
       "    </tr>\n",
       "    <tr>\n",
       "      <th>1</th>\n",
       "      <td>Aaron_Peirsol</td>\n",
       "      <td>Aaron_Peirsol/Aaron_Peirsol_0002.jpg</td>\n",
       "      <td>light</td>\n",
       "    </tr>\n",
       "    <tr>\n",
       "      <th>2</th>\n",
       "      <td>Aaron_Sorkin</td>\n",
       "      <td>Aaron_Sorkin/Aaron_Sorkin_0001.jpg</td>\n",
       "      <td>light</td>\n",
       "    </tr>\n",
       "    <tr>\n",
       "      <th>3</th>\n",
       "      <td>Aaron_Sorkin</td>\n",
       "      <td>Aaron_Sorkin/Aaron_Sorkin_0002.jpg</td>\n",
       "      <td>light</td>\n",
       "    </tr>\n",
       "    <tr>\n",
       "      <th>6</th>\n",
       "      <td>Abdullah</td>\n",
       "      <td>Abdullah/Abdullah_0001.jpg</td>\n",
       "      <td>light</td>\n",
       "    </tr>\n",
       "    <tr>\n",
       "      <th>...</th>\n",
       "      <td>...</td>\n",
       "      <td>...</td>\n",
       "      <td>...</td>\n",
       "    </tr>\n",
       "    <tr>\n",
       "      <th>2635</th>\n",
       "      <td>Venus_Williams</td>\n",
       "      <td>Venus_Williams/Venus_Williams_0003.jpg</td>\n",
       "      <td>dark</td>\n",
       "    </tr>\n",
       "    <tr>\n",
       "      <th>2646</th>\n",
       "      <td>Vince_Carter</td>\n",
       "      <td>Vince_Carter/Vince_Carter_0001.jpg</td>\n",
       "      <td>dark</td>\n",
       "    </tr>\n",
       "    <tr>\n",
       "      <th>2647</th>\n",
       "      <td>Vince_Carter</td>\n",
       "      <td>Vince_Carter/Vince_Carter_0002.jpg</td>\n",
       "      <td>dark</td>\n",
       "    </tr>\n",
       "    <tr>\n",
       "      <th>2656</th>\n",
       "      <td>Vivica_Fox</td>\n",
       "      <td>Vivica_Fox/Vivica_Fox_0001.jpg</td>\n",
       "      <td>dark</td>\n",
       "    </tr>\n",
       "    <tr>\n",
       "      <th>2657</th>\n",
       "      <td>Vivica_Fox</td>\n",
       "      <td>Vivica_Fox/Vivica_Fox_0002.jpg</td>\n",
       "      <td>dark</td>\n",
       "    </tr>\n",
       "  </tbody>\n",
       "</table>\n",
       "<p>232 rows × 3 columns</p>\n",
       "</div>"
      ],
      "text/plain": [
       "                name                               file_path binary_race\n",
       "0      Aaron_Peirsol    Aaron_Peirsol/Aaron_Peirsol_0001.jpg       light\n",
       "1      Aaron_Peirsol    Aaron_Peirsol/Aaron_Peirsol_0002.jpg       light\n",
       "2       Aaron_Sorkin      Aaron_Sorkin/Aaron_Sorkin_0001.jpg       light\n",
       "3       Aaron_Sorkin      Aaron_Sorkin/Aaron_Sorkin_0002.jpg       light\n",
       "6           Abdullah              Abdullah/Abdullah_0001.jpg       light\n",
       "...              ...                                     ...         ...\n",
       "2635  Venus_Williams  Venus_Williams/Venus_Williams_0003.jpg        dark\n",
       "2646    Vince_Carter      Vince_Carter/Vince_Carter_0001.jpg        dark\n",
       "2647    Vince_Carter      Vince_Carter/Vince_Carter_0002.jpg        dark\n",
       "2656      Vivica_Fox          Vivica_Fox/Vivica_Fox_0001.jpg        dark\n",
       "2657      Vivica_Fox          Vivica_Fox/Vivica_Fox_0002.jpg        dark\n",
       "\n",
       "[232 rows x 3 columns]"
      ]
     },
     "execution_count": 397,
     "metadata": {},
     "output_type": "execute_result"
    }
   ],
   "source": [
    "final_df"
   ]
  },
  {
   "cell_type": "code",
   "execution_count": 371,
   "id": "06c61e49-45e2-4ae9-9d2a-abc9f06f05db",
   "metadata": {
    "tags": []
   },
   "outputs": [],
   "source": [
    "final_df.to_csv(\"compiled_lfwa+.csv\")"
   ]
  }
 ],
 "metadata": {
  "kernelspec": {
   "display_name": "Python 3 (ipykernel)",
   "language": "python",
   "name": "python3"
  },
  "language_info": {
   "codemirror_mode": {
    "name": "ipython",
    "version": 3
   },
   "file_extension": ".py",
   "mimetype": "text/x-python",
   "name": "python",
   "nbconvert_exporter": "python",
   "pygments_lexer": "ipython3",
   "version": "3.8.19"
  }
 },
 "nbformat": 4,
 "nbformat_minor": 5
}
